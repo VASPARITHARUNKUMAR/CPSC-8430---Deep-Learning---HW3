{
 "cells": [
  {
   "cell_type": "code",
   "execution_count": 1,
   "id": "3eed6841-957d-4635-b21c-ae2777db57fb",
   "metadata": {},
   "outputs": [
    {
     "name": "stderr",
     "output_type": "stream",
     "text": [
      "2024-11-07 14:12:48.957600: I tensorflow/core/util/port.cc:153] oneDNN custom operations are on. You may see slightly different numerical results due to floating-point round-off errors from different computation orders. To turn them off, set the environment variable `TF_ENABLE_ONEDNN_OPTS=0`.\n",
      "2024-11-07 14:12:48.971926: E external/local_xla/xla/stream_executor/cuda/cuda_fft.cc:477] Unable to register cuFFT factory: Attempting to register factory for plugin cuFFT when one has already been registered\n",
      "WARNING: All log messages before absl::InitializeLog() is called are written to STDERR\n",
      "E0000 00:00:1731006768.988744  917203 cuda_dnn.cc:8310] Unable to register cuDNN factory: Attempting to register factory for plugin cuDNN when one has already been registered\n",
      "E0000 00:00:1731006768.993792  917203 cuda_blas.cc:1418] Unable to register cuBLAS factory: Attempting to register factory for plugin cuBLAS when one has already been registered\n",
      "2024-11-07 14:12:49.011739: I tensorflow/core/platform/cpu_feature_guard.cc:210] This TensorFlow binary is optimized to use available CPU instructions in performance-critical operations.\n",
      "To enable the following instructions: AVX2 AVX512F AVX512_VNNI FMA, in other operations, rebuild TensorFlow with the appropriate compiler flags.\n"
     ]
    },
    {
     "name": "stdout",
     "output_type": "stream",
     "text": [
      "cuda\n"
     ]
    }
   ],
   "source": [
    "import requests\n",
    "import json\n",
    "import torch\n",
    "import torch.nn as nn\n",
    "import os\n",
    "from tqdm import tqdm\n",
    "from transformers import BertModel, BertTokenizerFast, AdamW\n",
    "# AutoTokenizer, AutoModelForQuestionAnswering, BertTokenizer, BertForQuestionAnswering\n",
    "from torch.utils.data import Dataset, DataLoader\n",
    "from torch.optim.lr_scheduler import ExponentialLR\n",
    "import matplotlib.pyplot as plt\n",
    "\n",
    "device = torch.device('cuda') if torch.cuda.is_available() else torch.device('cpu')\n",
    "print(device)"
   ]
  },
  {
   "cell_type": "code",
   "execution_count": 2,
   "id": "22c79575-78a5-4afd-aae0-7616e355dfdf",
   "metadata": {},
   "outputs": [],
   "source": [
    "def load_data_from_file(path): \n",
    "    #read each file and retrieve the contexts, qustions and answers\n",
    "    with open(path, 'rb') as f:\n",
    "        data_content = json.load(f)\n",
    "    contexts = []\n",
    "    questions = []\n",
    "    answers = []\n",
    "    total_questions = 0\n",
    "    total_possible = 0\n",
    "    total_impossible = 0\n",
    "    for group in data_content['data']:\n",
    "        for paragraph in group['paragraphs']:\n",
    "            context = paragraph['context']\n",
    "            for qa in paragraph['qas']:\n",
    "                question       = qa['question']\n",
    "                total_questions  = total_questions  +1\n",
    "                #if qa['is_impossible'] == True:\n",
    "                    #total_impossible = total_impossible +1\n",
    "                #else:\n",
    "                    #total_possible = total_possible +1\n",
    "                for answer in qa['answers']:\n",
    "                    contexts.append(context.lower())\n",
    "                    questions.append(question.lower())\n",
    "                    answers.append(answer)\n",
    "    return total_questions, total_possible, total_impossible, contexts, questions, answers"
   ]
  },
  {
   "cell_type": "code",
   "execution_count": 3,
   "id": "1e1cecff-39b5-4478-8a0c-d76786656916",
   "metadata": {},
   "outputs": [
    {
     "name": "stdout",
     "output_type": "stream",
     "text": [
      "15875\n",
      "15875\n",
      "15875\n",
      "789\n"
     ]
    }
   ],
   "source": [
    "total_questions, total_possible, total_impossible, train_contexts, train_questions, train_answers = load_data_from_file('./spoken_train-v1.1.json')\n",
    "total_questions  = total_questions\n",
    "num_posible = total_possible\n",
    "num_imposible  = total_impossible\n",
    "\n",
    "total_questions, total_possible, total_impossible, valid_contexts, valid_questions, valid_answers = load_data_from_file('./spoken_test-v1.1.json')\n",
    "print(len(valid_contexts))\n",
    "print(len(valid_questions))\n",
    "print(len(valid_answers))\n",
    "def compute_answer_endpoints(answers, contexts):\n",
    "    for answer, context in zip(answers, contexts):\n",
    "        answer['text'] = answer['text'].lower()\n",
    "        answer['answer_end'] = answer['answer_start'] + len(answer['text'])\n",
    "\n",
    "compute_answer_endpoints(train_answers, train_contexts)\n",
    "compute_answer_endpoints(valid_answers, valid_contexts)\n",
    "\n",
    "#Text lengths to contextx\n",
    "context_lengths = []\n",
    "\n",
    "for txt in train_contexts:\n",
    "    txt = txt.strip()  # remove leading and trailing whitespaces\n",
    "    context_lengths.append(len(txt.split(' ')))\n",
    "  \n",
    "\n",
    "print(max(context_lengths))"
   ]
  },
  {
   "cell_type": "code",
   "execution_count": 4,
   "id": "e9e7c6c5-9e18-4417-89bc-d2b085d06320",
   "metadata": {},
   "outputs": [
    {
     "name": "stdout",
     "output_type": "stream",
     "text": [
      "34\n",
      "37111\n",
      "['what is in front of the notre dame main building?', 'the basilica of the sacred heart at notre dame is beside to which structure?']\n",
      "['architecturally the school has a catholic character. atop the main building school dome is the golden statue of the virgin mary. immediately in front of the main building in facing it is a copper statue of christ with arms appraised with the legend and the bad meow names. next to the main building is the basilica of the sacred heart. immediately behind the basilica is the grotto im mary in place of prayer and reflection. it is a replica of the grotto at lourdes france where the virgin mary reputedly appeared to st bernadette still burning eighteen fifty eight. at the end of the main drive and in a direct line that connects through three statues in the gold dome is as simple modern stone statue of mary.', 'architecturally the school has a catholic character. atop the main building school dome is the golden statue of the virgin mary. immediately in front of the main building in facing it is a copper statue of christ with arms appraised with the legend and the bad meow names. next to the main building is the basilica of the sacred heart. immediately behind the basilica is the grotto im mary in place of prayer and reflection. it is a replica of the grotto at lourdes france where the virgin mary reputedly appeared to st bernadette still burning eighteen fifty eight. at the end of the main drive and in a direct line that connects through three statues in the gold dome is as simple modern stone statue of mary.']\n"
     ]
    },
    {
     "data": {
      "image/png": "[encoded data removed]",
      "text/plain": [
       "<Figure size 640x480 with 1 Axes>"
      ]
     },
     "metadata": {},
     "output_type": "display_data"
    }
   ],
   "source": [
    "plt.hist(context_lengths,  bins=20)  # density=False would make counts\n",
    "plt.ylabel('Count')\n",
    "plt.xlabel('Length')\n",
    "plt.title('Distribution of Context Lengths');\n",
    "\n",
    "#Test lengths of Questions\n",
    "question_length_distribution = []\n",
    "\n",
    "for txt in train_questions:\n",
    "    txt = txt.strip()  # remove leading and trailing whitespaces\n",
    "    question_length_distribution.append(len(txt.split(' ')))\n",
    "\n",
    "\n",
    "print(max(question_length_distribution))\n",
    "print(len(question_length_distribution))\n",
    "\n",
    "plt.hist(question_length_distribution,  bins=20)  # density=False would make counts\n",
    "plt.ylabel('Count')\n",
    "plt.xlabel('Length')\n",
    "plt.title('Distribution of Question Lengths');\n",
    "\n",
    "MAX_LENGTH = 250\n",
    "MODEL_PATH = \"deepset/bert-base-cased-squad2\"\n",
    "\n",
    "print(train_questions[0:2])\n",
    "print(train_contexts[0:2])"
   ]
  },
  {
   "cell_type": "code",
   "execution_count": 5,
   "id": "d2548ded-8c53-47f6-9bb3-8a60b9aa39d8",
   "metadata": {},
   "outputs": [
    {
     "name": "stdout",
     "output_type": "stream",
     "text": [
      "dict_keys(['input_ids', 'token_type_ids', 'attention_mask'])\n",
      "dict_keys(['input_ids', 'token_type_ids', 'attention_mask'])\n",
      "37111\n",
      "250\n",
      "507\n",
      "249\n"
     ]
    }
   ],
   "source": [
    "tokenizerFast = BertTokenizerFast.from_pretrained(MODEL_PATH)\n",
    "train_encoded_data = tokenizerFast(train_questions, train_contexts,  max_length = MAX_LENGTH, truncation=True, padding=True)\n",
    "valid_encoded_data = tokenizerFast(valid_questions,valid_contexts,  max_length = MAX_LENGTH, truncation=True, padding=True)\n",
    "\n",
    "type(train_encoded_data)\n",
    "\n",
    "print(train_encoded_data.keys())\n",
    "print(valid_encoded_data.keys())\n",
    "print(len(train_encoded_data['input_ids']))\n",
    "print(len(train_encoded_data['input_ids'][0]))\n",
    "\n",
    "def compute_answer_positions_train(idx):\n",
    "    ret_start = 0\n",
    "    ret_end = 0\n",
    "    answer_encoding_fast = tokenizerFast(train_answers[idx]['text'],  max_length = MAX_LENGTH, truncation=True, padding=True)\n",
    "    for a in range( len(train_encoded_data['input_ids'][idx]) -  len(answer_encoding_fast['input_ids']) ): #len(train_encoded_data['input_ids'][0])):\n",
    "        match = True\n",
    "        for i in range(1,len(answer_encoding_fast['input_ids']) - 1):\n",
    "            if (answer_encoding_fast['input_ids'][i] != train_encoded_data['input_ids'][idx][a + i]):\n",
    "                match = False\n",
    "                break\n",
    "            if match:\n",
    "                ret_start = a+1\n",
    "                ret_end = a+i+1\n",
    "                break\n",
    "    return(ret_start, ret_end)\n",
    "\n",
    "start_positions = []\n",
    "end_positions = []\n",
    "ctr = 0\n",
    "for h in range(len(train_encoded_data['input_ids'])):\n",
    "    s, e = compute_answer_positions_train(h)\n",
    "    start_positions.append(s)\n",
    "    end_positions.append(e)\n",
    "    if s==0:\n",
    "        ctr = ctr + 1\n",
    "\n",
    "    \n",
    "train_encoded_data.update({'start_positions': start_positions, 'end_positions': end_positions})\n",
    "print(ctr)\n",
    "\n",
    "def compute_answer_positions_valid(idx):\n",
    "    ret_start = 0\n",
    "    ret_end = 0\n",
    "    answer_encoding_fast = tokenizerFast(valid_answers[idx]['text'],  max_length = MAX_LENGTH, truncation=True, padding=True)\n",
    "    for a in range( len(valid_encoded_data['input_ids'][idx])  -  len(answer_encoding_fast['input_ids'])   ): #len(train_encoded_data['input_ids'][0])):\n",
    "        match = True\n",
    "        for i in range(1,len(answer_encoding_fast['input_ids']) - 1):\n",
    "            if (answer_encoding_fast['input_ids'][i] != valid_encoded_data['input_ids'][idx][a + i]):\n",
    "                match = False\n",
    "                break\n",
    "            if match:\n",
    "                ret_start = a+1\n",
    "                ret_end = a+i+1\n",
    "                break\n",
    "    return(ret_start, ret_end)\n",
    "\n",
    "start_positions = []\n",
    "end_positions = []\n",
    "ctr = 0\n",
    "for h in range(len(valid_encoded_data['input_ids']) ):\n",
    "    #print(h)\n",
    "    s, e = compute_answer_positions_valid(h)\n",
    "    start_positions.append(s)\n",
    "    end_positions.append(e)\n",
    "    if s==0:\n",
    "        ctr = ctr + 1\n",
    "\n",
    "    \n",
    "valid_encoded_data.update({'start_positions': start_positions, 'end_positions': end_positions})\n",
    "print(ctr)"
   ]
  },
  {
   "cell_type": "code",
   "execution_count": 6,
   "id": "35868eb8-c5ea-4f72-a671-cde06d92c81e",
   "metadata": {},
   "outputs": [],
   "source": [
    "class CustomDataset(Dataset):\n",
    "    def __init__(self, encodings):\n",
    "        self.encodings = encodings\n",
    "    def __getitem__(self, i):\n",
    "        return {\n",
    "            'input_ids': torch.tensor(self.encodings['input_ids'][i]),\n",
    "            'token_type_ids': torch.tensor(self.encodings['token_type_ids'][i]),\n",
    "            'attention_mask': torch.tensor(self.encodings['attention_mask'][i]),\n",
    "            'start_positions': torch.tensor(self.encodings['start_positions'][i]),\n",
    "            'end_positions': torch.tensor(self.encodings['end_positions'][i])\n",
    "        }\n",
    "    def __len__(self):\n",
    "        return len(self.encodings['input_ids'])\n",
    "\n",
    "training_dataset = CustomDataset(train_encoded_data)\n",
    "validation_dataset = CustomDataset(valid_encoded_data)\n",
    "\n",
    "training_data_loader = DataLoader(training_dataset, batch_size=16, shuffle=True)\n",
    "validation_data_loader = DataLoader(validation_dataset, batch_size=1)\n",
    "\n",
    "bert_model = BertModel.from_pretrained(MODEL_PATH)  #MODEL_PATH = \"bert-base-uncased\""
   ]
  },
  {
   "cell_type": "code",
   "execution_count": 7,
   "id": "0e562f05-7cfb-41b9-bd83-16353f5acc22",
   "metadata": {},
   "outputs": [],
   "source": [
    "class CustomQAModel(nn.Module):\n",
    "    def __init__(self):\n",
    "        super(CustomQAModel, self).__init__()\n",
    "        self.bert = bert_model\n",
    "        self.drop_out = nn.Dropout(0.1)\n",
    "        self.l1 = nn.Linear(768 * 2, 768 * 2)\n",
    "        self.l2 = nn.Linear(768 * 2, 2)\n",
    "        self.linear_relu_stack = nn.Sequential(\n",
    "            self.drop_out,\n",
    "            self.l1,\n",
    "            nn.LeakyReLU(),\n",
    "            self.l2 \n",
    "        )\n",
    "        \n",
    "    def forward(self, input_ids, attention_mask, token_type_ids):\n",
    "        model_output = self.bert(input_ids, attention_mask=attention_mask, token_type_ids=token_type_ids, output_hidden_states=True)\n",
    "        hidden_states = model_output[2]\n",
    "        out = torch.cat((hidden_states[-1], hidden_states[-3]), dim=-1)  # taking Start logits from last BERT layer, End Logits from third to last layer\n",
    "        logits = self.linear_relu_stack(out)\n",
    "        \n",
    "        start_logits, end_logits = logits.split(1, dim=-1)\n",
    "        \n",
    "        start_logits = start_logits.squeeze(-1)\n",
    "        end_logits = end_logits.squeeze(-1)\n",
    "\n",
    "        return start_logits, end_logits\n",
    "\n",
    "model = CustomQAModel()\n"
   ]
  },
  {
   "cell_type": "code",
   "execution_count": 8,
   "id": "521a5377-ed2f-4403-8e34-60203077d257",
   "metadata": {},
   "outputs": [
    {
     "name": "stderr",
     "output_type": "stream",
     "text": [
      "/home/tvaspar/.local/lib/python3.11/site-packages/transformers/optimization.py:591: FutureWarning: This implementation of AdamW is deprecated and will be removed in a future version. Use the PyTorch implementation torch.optim.AdamW instead, or set `no_deprecation_warning=True` to disable this warning\n",
      "  warnings.warn(\n"
     ]
    }
   ],
   "source": [
    "def custom_loss_fn(start_logits, end_logits, start_positions, end_positions):\n",
    "    loss_function = nn.CrossEntropyLoss()\n",
    "    start_loss = loss_function(start_logits, start_positions)\n",
    "    end_loss = loss_function(end_logits, end_positions)\n",
    "    total_loss = (start_loss + end_loss)/2\n",
    "    return total_loss\n",
    "\n",
    "def custom_focal_loss_fn(start_logits, end_logits, start_positions, end_positions, gamma):\n",
    "    \n",
    "    #calculate Probabilities by applying Softmax to the Start and End Logits. Then get 1 - probabilities\n",
    "    softmax = nn.Softmax(dim=1)\n",
    "    start_probs = softmax(start_logits)\n",
    "    inv_start_probs = 1 - start_probs\n",
    "    end_probs = softmax(end_logits)\n",
    "    inv_end_probs = 1 - end_probs\n",
    "    \n",
    "    #get log of probabilities. Note: NLLLoss required log probabilities. This is the Natural Log (Log base e)\n",
    "    log_softmax = nn.LogSoftmax(dim=1)\n",
    "    log_start_probs = log_softmax(start_logits)\n",
    "    log_end_probs = log_softmax(end_logits)\n",
    "    \n",
    "    nll = nn.NLLLoss()\n",
    "    \n",
    "    focal_start_loss = nll(torch.pow(inv_start_probs, gamma)* log_start_probs, start_positions)\n",
    "    focal_end_loss = nll(torch.pow(inv_end_probs, gamma)*log_end_probs, end_positions)\n",
    "    \n",
    "    #return mean of the Loss for the start and end logits\n",
    "    return ((focal_start_loss + focal_end_loss)/2)\n",
    "\n",
    "optim = AdamW(model.parameters(), lr=2e-5, weight_decay=2e-2)\n",
    "scheduler = ExponentialLR(optim, gamma=0.9)\n",
    "total_acc = []\n",
    "total_loss = []\n"
   ]
  },
  {
   "cell_type": "code",
   "execution_count": 12,
   "id": "ab1dd2dd-b423-45b7-aec9-c00c9ef25113",
   "metadata": {},
   "outputs": [],
   "source": [
    "from evaluate import load\n",
    "from sklearn.metrics import f1_score\n",
    "\n",
    "# Load the Word Error Rate (WER) metric\n",
    "wer = load(\"wer\")\n",
    "\n",
    "def evaluate_model(model, dataloader):\n",
    "    model = model.eval()\n",
    "    answer_data = []\n",
    "    start_preds, end_preds = [], []\n",
    "    true_starts, true_ends = [], []\n",
    "    \n",
    "    with torch.no_grad():\n",
    "        for batch in tqdm(dataloader, desc='Running Evaluation'):\n",
    "            input_ids = batch['input_ids'].to(device)\n",
    "            attention_mask = batch['attention_mask'].to(device)\n",
    "            token_type_ids = batch['token_type_ids'].to(device)\n",
    "            true_start_positions = batch['start_positions'].to(device)\n",
    "            true_end_positions = batch['end_positions'].to(device)\n",
    "            \n",
    "            start_logits, end_logits = model(input_ids=input_ids, attention_mask=attention_mask, token_type_ids=token_type_ids)\n",
    "            \n",
    "            start_pred = torch.argmax(start_logits, dim=1)\n",
    "            end_pred = torch.argmax(end_logits, dim=1)\n",
    "            \n",
    "            start_preds.extend(start_pred.cpu().tolist())\n",
    "            end_preds.extend(end_pred.cpu().tolist())\n",
    "            true_starts.extend(true_start_positions.cpu().tolist())\n",
    "            true_ends.extend(true_end_positions.cpu().tolist())\n",
    "            \n",
    "            answer = tokenizerFast.convert_tokens_to_string(\n",
    "                tokenizerFast.convert_ids_to_tokens(input_ids[0][start_pred[0]:end_pred[0]])\n",
    "            )\n",
    "            true_answer = tokenizerFast.convert_tokens_to_string(\n",
    "                tokenizerFast.convert_ids_to_tokens(input_ids[0][true_start_positions[0]:true_end_positions[0]])\n",
    "            )\n",
    "            answer_data.append([answer, true_answer])\n",
    "    \n",
    "    start_f1 = f1_score(true_starts, start_preds, average='weighted')\n",
    "    end_f1 = f1_score(true_ends, end_preds, average='weighted')\n",
    "    overall_f1 = (start_f1 + end_f1) / 2\n",
    "    return answer_data, overall_f1"
   ]
  },
  {
   "cell_type": "code",
   "execution_count": 13,
   "id": "e922d16e-ed65-4a3b-a5b5-d9490ae7ce2d",
   "metadata": {},
   "outputs": [],
   "source": [
    "def train_one_epoch(model, dataloader, epoch):\n",
    "    model = model.train()\n",
    "    losses, acc = [], []\n",
    "    start_preds, end_preds = [], []\n",
    "    true_starts, true_ends = [], []\n",
    "    batch_tracker = 0\n",
    "    \n",
    "    for batch in tqdm(dataloader, desc=f'Running Epoch {epoch}'):\n",
    "        optim.zero_grad()\n",
    "        input_ids = batch['input_ids'].to(device)\n",
    "        attention_mask = batch['attention_mask'].to(device)\n",
    "        token_type_ids = batch['token_type_ids'].to(device)\n",
    "        start_positions = batch['start_positions'].to(device)\n",
    "        end_positions = batch['end_positions'].to(device)\n",
    "        \n",
    "        start_logits, end_logits = model(input_ids=input_ids, attention_mask=attention_mask, token_type_ids=token_type_ids)\n",
    "        \n",
    "        loss = custom_focal_loss_fn(start_logits, end_logits, start_positions, end_positions, gamma=1)\n",
    "        losses.append(loss.item())\n",
    "        loss.backward()\n",
    "        optim.step()\n",
    "        \n",
    "        start_pred = torch.argmax(start_logits, dim=1)\n",
    "        end_pred = torch.argmax(end_logits, dim=1)\n",
    "        \n",
    "        acc.append(((start_pred == start_positions).sum() / len(start_pred)).item())\n",
    "        acc.append(((end_pred == end_positions).sum() / len(end_pred)).item())\n",
    "        \n",
    "        start_preds.extend(start_pred.cpu().tolist())\n",
    "        end_preds.extend(end_pred.cpu().tolist())\n",
    "        true_starts.extend(start_positions.cpu().tolist())\n",
    "        true_ends.extend(end_positions.cpu().tolist())\n",
    "        \n",
    "        batch_tracker += 1\n",
    "        if batch_tracker == 250 and epoch == 1:\n",
    "            total_acc.append(sum(acc) / len(acc))\n",
    "            total_loss.append(sum(losses) / len(losses))\n",
    "            batch_tracker = 0\n",
    "            \n",
    "    scheduler.step()\n",
    "    final_accuracy = sum(acc) / len(acc)\n",
    "    final_loss = sum(losses) / len(losses)\n",
    "    start_f1 = f1_score(true_starts, start_preds, average='weighted')\n",
    "    end_f1 = f1_score(true_ends, end_preds, average='weighted')\n",
    "    overall_f1 = (start_f1 + end_f1) / 2\n",
    "    return final_accuracy, final_loss, overall_f1"
   ]
  },
  {
   "cell_type": "code",
   "execution_count": 14,
   "id": "74baaf87-9d30-459e-a30c-84713df6fd5e",
   "metadata": {},
   "outputs": [
    {
     "name": "stderr",
     "output_type": "stream",
     "text": [
      "Running Epoch 1: 100%|██████████| 2320/2320 [06:20<00:00,  6.10it/s]\n"
     ]
    },
    {
     "name": "stdout",
     "output_type": "stream",
     "text": [
      "Train Accuracy: 0.6665005388059493    Train Loss: 0.9425674887952106    Train F1 Score: 0.6655793848995184\n"
     ]
    },
    {
     "name": "stderr",
     "output_type": "stream",
     "text": [
      "Running Evaluation: 100%|██████████| 15875/15875 [01:41<00:00, 156.83it/s]\n"
     ]
    },
    {
     "name": "stdout",
     "output_type": "stream",
     "text": [
      "Validation F1 Score: 0.5549115001311701    WER: 2.354330708661417\n"
     ]
    },
    {
     "name": "stderr",
     "output_type": "stream",
     "text": [
      "Running Epoch 2: 100%|██████████| 2320/2320 [06:21<00:00,  6.07it/s]\n"
     ]
    },
    {
     "name": "stdout",
     "output_type": "stream",
     "text": [
      "Train Accuracy: 0.7781615609752721    Train Loss: 0.555150531906763    Train F1 Score: 0.7776823377462708\n"
     ]
    },
    {
     "name": "stderr",
     "output_type": "stream",
     "text": [
      "Running Evaluation: 100%|██████████| 15875/15875 [01:41<00:00, 156.37it/s]\n"
     ]
    },
    {
     "name": "stdout",
     "output_type": "stream",
     "text": [
      "Validation F1 Score: 0.5536174612874657    WER: 3.0418897637795275\n"
     ]
    },
    {
     "name": "stderr",
     "output_type": "stream",
     "text": [
      "Running Epoch 3: 100%|██████████| 2320/2320 [06:21<00:00,  6.08it/s]\n"
     ]
    },
    {
     "name": "stdout",
     "output_type": "stream",
     "text": [
      "Train Accuracy: 0.8483663023545824    Train Loss: 0.343052504958328    Train F1 Score: 0.8482450805817889\n"
     ]
    },
    {
     "name": "stderr",
     "output_type": "stream",
     "text": [
      "Running Evaluation: 100%|██████████| 15875/15875 [01:40<00:00, 157.64it/s]\n"
     ]
    },
    {
     "name": "stdout",
     "output_type": "stream",
     "text": [
      "Validation F1 Score: 0.5530193642022498    WER: 2.6895748031496063\n",
      "['This', 'is', 'a', 'sentence', '.']\n",
      "This is a sentence.\n"
     ]
    }
   ],
   "source": [
    "EPOCHS = 3\n",
    "model.to(device)\n",
    "wer_list = []\n",
    "\n",
    "for epoch in range(EPOCHS):\n",
    "    train_acc, train_loss, train_f1 = train_one_epoch(model, training_data_loader, epoch + 1)\n",
    "    print(f\"Train Accuracy: {train_acc}    Train Loss: {train_loss}    Train F1 Score: {train_f1}\")\n",
    "    \n",
    "    answer_data, val_f1 = evaluate_model(model, validation_data_loader)\n",
    "    predicted_answers, actual_answers = [], []\n",
    "    \n",
    "    for answer_pair in answer_data:\n",
    "        predicted, actual = answer_pair\n",
    "        predicted_answers.append(predicted if predicted else \"$\")\n",
    "        actual_answers.append(actual if actual else \"$\")\n",
    "    \n",
    "    wer_score = wer.compute(predictions=predicted_answers, references=actual_answers)\n",
    "    wer_list.append(wer_score)\n",
    "    \n",
    "    print(f\"Validation F1 Score: {val_f1}    WER: {wer_score}\")\n",
    "\n",
    "# Tokenization example\n",
    "tokens = tokenizerFast.tokenize(\"This is a sentence.\")\n",
    "print(tokens)\n",
    "output_sentence = tokenizerFast.convert_tokens_to_string(tokens)\n",
    "print(output_sentence)"
   ]
  },
  {
   "cell_type": "code",
   "execution_count": null,
   "id": "07f7226f-53b9-4a72-b24d-5dc736766215",
   "metadata": {},
   "outputs": [],
   "source": []
  }
 ],
 "metadata": {
  "kernelspec": {
   "display_name": "Python 3 (ipykernel)",
   "language": "python",
   "name": "python3"
  },
  "language_info": {
   "codemirror_mode": {
    "name": "ipython",
    "version": 3
   },
   "file_extension": ".py",
   "mimetype": "text/x-python",
   "name": "python",
   "nbconvert_exporter": "python",
   "pygments_lexer": "ipython3",
   "version": "3.11.5"
  }
 },
 "nbformat": 4,
 "nbformat_minor": 5
}
